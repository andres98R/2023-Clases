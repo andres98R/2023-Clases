{
 "cells": [
  {
   "cell_type": "markdown",
   "id": "b0c62401",
   "metadata": {},
   "source": [
    "# Semana03 \n",
    "Andres Alfredo Rejas Ramirez"
   ]
  },
  {
   "cell_type": "raw",
   "id": "cfb9f7ae",
   "metadata": {},
   "source": [
    "Temas:\n",
    "    1.Números\n",
    "    2.Variables\n",
    "    3.Manejo de Cadenas\n",
    "    4.Ingreso de datos por teclado\n",
    "    5.Operadores"
   ]
  },
  {
   "cell_type": "raw",
   "id": "5ad959e6",
   "metadata": {},
   "source": [
    "1.Números"
   ]
  },
  {
   "cell_type": "code",
   "execution_count": 3,
   "id": "71f107fc",
   "metadata": {},
   "outputs": [],
   "source": [
    "#simpre deben iniciar con una LEtra o un guion abajo. (Nunca con un numero u otro simbolo)"
   ]
  },
  {
   "cell_type": "code",
   "execution_count": 4,
   "id": "1c1d3c6a",
   "metadata": {},
   "outputs": [],
   "source": [
    "edad=19"
   ]
  },
  {
   "cell_type": "code",
   "execution_count": 5,
   "id": "8f15c949",
   "metadata": {},
   "outputs": [],
   "source": [
    "nombre=\"Andres\""
   ]
  },
  {
   "cell_type": "code",
   "execution_count": 7,
   "id": "dc0a8ddc",
   "metadata": {},
   "outputs": [
    {
     "data": {
      "text/plain": [
       "'Andres'"
      ]
     },
     "execution_count": 7,
     "metadata": {},
     "output_type": "execute_result"
    }
   ],
   "source": [
    "nombre"
   ]
  },
  {
   "cell_type": "code",
   "execution_count": 8,
   "id": "3d0fb0af",
   "metadata": {},
   "outputs": [],
   "source": [
    "apellido=\"Rejas Ramirez\""
   ]
  },
  {
   "cell_type": "code",
   "execution_count": 10,
   "id": "6b0c3c54",
   "metadata": {},
   "outputs": [
    {
     "data": {
      "text/plain": [
       "'Rejas Ramirez'"
      ]
     },
     "execution_count": 10,
     "metadata": {},
     "output_type": "execute_result"
    }
   ],
   "source": [
    "apellido"
   ]
  },
  {
   "cell_type": "code",
   "execution_count": 12,
   "id": "f5e44462",
   "metadata": {},
   "outputs": [
    {
     "data": {
      "text/plain": [
       "'AndresRejas Ramirez'"
      ]
     },
     "execution_count": 12,
     "metadata": {},
     "output_type": "execute_result"
    }
   ],
   "source": [
    "nombrecompleto=nombre + apellido\n",
    "nombrecompleto"
   ]
  },
  {
   "cell_type": "code",
   "execution_count": 15,
   "id": "c3db42da",
   "metadata": {},
   "outputs": [
    {
     "data": {
      "text/plain": [
       "int"
      ]
     },
     "execution_count": 15,
     "metadata": {},
     "output_type": "execute_result"
    }
   ],
   "source": [
    "#Para saber el tipo de variable utilizamos la funcion type\n",
    "numero=50\n",
    "type(numero)"
   ]
  },
  {
   "cell_type": "code",
   "execution_count": 17,
   "id": "291e96a7",
   "metadata": {},
   "outputs": [
    {
     "data": {
      "text/plain": [
       "str"
      ]
     },
     "execution_count": 17,
     "metadata": {},
     "output_type": "execute_result"
    }
   ],
   "source": [
    "type(nombre)"
   ]
  },
  {
   "cell_type": "code",
   "execution_count": 19,
   "id": "0faa4b29",
   "metadata": {},
   "outputs": [
    {
     "data": {
      "text/plain": [
       "1.78"
      ]
     },
     "execution_count": 19,
     "metadata": {},
     "output_type": "execute_result"
    }
   ],
   "source": [
    "talla=1.78\n",
    "talla"
   ]
  },
  {
   "cell_type": "code",
   "execution_count": 21,
   "id": "24a4530c",
   "metadata": {},
   "outputs": [
    {
     "data": {
      "text/plain": [
       "float"
      ]
     },
     "execution_count": 21,
     "metadata": {},
     "output_type": "execute_result"
    }
   ],
   "source": [
    "type(talla)"
   ]
  },
  {
   "cell_type": "code",
   "execution_count": 23,
   "id": "a5cc6257",
   "metadata": {},
   "outputs": [
    {
     "data": {
      "text/plain": [
       "'100'"
      ]
     },
     "execution_count": 23,
     "metadata": {},
     "output_type": "execute_result"
    }
   ],
   "source": [
    "#Para convertir un numero a string utilizamos str()\n",
    "numero =100\n",
    "cadena=str(numero)\n",
    "cadena"
   ]
  },
  {
   "cell_type": "code",
   "execution_count": 25,
   "id": "0672279e",
   "metadata": {},
   "outputs": [
    {
     "data": {
      "text/plain": [
       "str"
      ]
     },
     "execution_count": 25,
     "metadata": {},
     "output_type": "execute_result"
    }
   ],
   "source": [
    "type(cadena)"
   ]
  },
  {
   "cell_type": "code",
   "execution_count": 27,
   "id": "d7420600",
   "metadata": {},
   "outputs": [
    {
     "data": {
      "text/plain": [
       "50"
      ]
     },
     "execution_count": 27,
     "metadata": {},
     "output_type": "execute_result"
    }
   ],
   "source": [
    "#para convertir una cadena en un entero\n",
    "cadena2=\"50\"\n",
    "numero2=int(cadena2)\n",
    "numero2"
   ]
  },
  {
   "cell_type": "code",
   "execution_count": 28,
   "id": "c00a63ca",
   "metadata": {},
   "outputs": [
    {
     "data": {
      "text/plain": [
       "str"
      ]
     },
     "execution_count": 28,
     "metadata": {},
     "output_type": "execute_result"
    }
   ],
   "source": [
    "type(cadena2)"
   ]
  }
 ],
 "metadata": {
  "kernelspec": {
   "display_name": "Python 3 (ipykernel)",
   "language": "python",
   "name": "python3"
  },
  "language_info": {
   "codemirror_mode": {
    "name": "ipython",
    "version": 3
   },
   "file_extension": ".py",
   "mimetype": "text/x-python",
   "name": "python",
   "nbconvert_exporter": "python",
   "pygments_lexer": "ipython3",
   "version": "3.9.12"
  }
 },
 "nbformat": 4,
 "nbformat_minor": 5
}
